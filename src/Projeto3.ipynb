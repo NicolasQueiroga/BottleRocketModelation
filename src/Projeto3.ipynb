{
 "cells": [
  {
   "cell_type": "markdown",
   "metadata": {},
   "source": [
    "# **Modelagem e Simulação do Mundo Físico: Projeto 3**\n",
    "\n",
    "##### Francisco Janela | Nicolas Queiroga | Rafael Niccherri | Rodrigo Griner - 1C\n",
    "\n",
    "## Foguete de garrafa PET:\n",
    "\n",
    "Em uma feira de ciências, uma escola decide competir num lançamento de foguetes de garrafa PET. Com a intenção de ajudá-los, nosso projeto será baseado nisso.\n",
    "\n",
    "Para o projeto, decidimos modelar as equações que regem o lançamento de um foguete de garrafa PET, considerando a força e ângulo de lançamento, resistência do ar e massa variável.\n",
    "\n",
    "\n",
    "<left><img src=\"Modelo_Foguete.png\" width=500 style=\"float: center; margin: 0px 0px 10px 10px\"></left>\n",
    "<left><b>Figura 1: Modelo desenhado de um Foguete de garrafa PET</b></left>\n",
    "\n",
    "\n",
    "#### Perguntas:\n",
    "\n",
    "- **Pergunta 1**: Como o ângulo de lançamento do foguete influencia o alcance? \n",
    "\n",
    "- **Pergunta 2**: Como a massa de água (“combustível”) influencia o alcance?\n",
    "\n",
    "- **Pergunta 3**: Como a massa do bico do foguete influencia o alcance?\n"
   ]
  },
  {
   "cell_type": "markdown",
   "metadata": {},
   "source": [
    "#### (0.1) Importando bibliotecas e definindo parâmetros\n",
    "\n",
    "Para este modelo vamos usar como parâmetros:\n"
   ]
  },
  {
   "cell_type": "code",
   "execution_count": 1,
   "metadata": {},
   "outputs": [],
   "source": [
    "## Importando Bibliotecas para o nosso Projeto:\n",
    "import matplotlib.pyplot as plt\n",
    "import numpy as np\n",
    "from scipy.integrate import odeint\n",
    "import math\n",
    "\n",
    "%matplotlib inline\n",
    "from ipywidgets import interactive\n",
    "\n",
    "## Parâmetros e Variáveis\n",
    "# gravidade -> m/s2:\n",
    "g = 9.81\n",
    "# densidade da água -> kg/m3:\n",
    "dw = 997\n",
    "# densidade do ar -> kg/m3\n",
    "dar = 1.27\n",
    "# raio do bico da garrafa -> m:\n",
    "rn = 0.01\n",
    "#raio da garrafa -> m:\n",
    "rg = 0.055\n",
    "# massa seca -> kg\n",
    "mS = 0.3\n",
    "# massa de água para propulsão -> kg:\n",
    "mP = 0.66\n",
    "# massa inicial do foguete -> kg:\n",
    "M = mS + mP\n",
    "# pressão inicial -> pascal:\n",
    "p0 = 517107\n",
    "# pressão atmosférica -> pascal:\n",
    "pout = 101325\n",
    "# compartimento de propulsão - garrafa PET de 2L -> m3:\n",
    "V = 0.002\n",
    "# volume inicial de ar -> m3:\n",
    "V0 = 0.002-(mP/dw)\n",
    "# coeficiente adiabático:\n",
    "gama = 1.4\n",
    "# coeficiente de arrasto:\n",
    "Ca = 0.9\n",
    "# Área de secção transversal -> m2:\n",
    "A = (math.pi*rg**2)"
   ]
  },
  {
   "cell_type": "markdown",
   "metadata": {},
   "source": [
    "#### (0.2) Condições inicias e lista de tempo\n",
    "\n",
    "Definindo para o modelo as condições iniciais e a lista tempo (por meio do numpy):"
   ]
  },
  {
   "cell_type": "code",
   "execution_count": 2,
   "metadata": {},
   "outputs": [],
   "source": [
    "# condições iniciais:\n",
    "x0=0\n",
    "y0=0\n",
    "vx0=0\n",
    "vy0=0\n",
    "m0 = M\n",
    "X_0=[x0,y0,vx0,vy0,m0]\n",
    "\n",
    "# lista de tempo utilizada:\n",
    "dt=1e-5\n",
    "lista_tempo = np.arange(0,10,dt)"
   ]
  },
  {
   "cell_type": "markdown",
   "metadata": {},
   "source": [
    "### (1) 1ª Iteração do modelo\n",
    "\n",
    "Para a primeira iteração desenvolvemos o modelo desconsiderando a resistência do ar.\n",
    "\n",
    "<left><img src=\"DCL_1iteracao.png\" width=500 style=\"float: center; margin: 0px 0px 10px 10px\"></left>\n",
    "<left><b>Figura 2: Diagrama do corpo livre da 1ª Iteração</b></left>\n",
    "\n",
    "<left><img src=\"Legenda_1iteracao.png\" width=500 style=\"float: center; margin: 0px 0px 10px 10px\"></left>\n",
    "<left><b>Figura 3: Legenda do diagrama</b></left>\n",
    "\n",
    "Para implementar com ODEINT, as duas derivadas de 2ª ordem que variam o x e o y do foguete foram transformadas em 4 de 1ª ordem, resultando nas seguintes equações do sistema:\n",
    "\n",
    "$\\frac{dx}{dt}=v_x$\n",
    "\n",
    "$\\frac{dy}{dt}=v_y$\n",
    "\n",
    "$\\frac{dvx}{dt}=\\frac{1}{m}\\cdot[\\pi\\cdot r_n^2 \\cdot d_w \\cdot v_e^2 \\cdot cos \\theta]$\n",
    "\n",
    "$\\frac{dvy}{dt}=\\frac{1}{m}\\cdot[\\pi\\cdot r_n^2 \\cdot d_w \\cdot v_e^2 \\cdot sen \\theta - m \\cdot g]$\n",
    "\n",
    "$\\frac{dm}{dt}=-\\pi \\cdot r_n^2 \\cdot d_w \\cdot v_e$\n",
    "\n",
    "\n",
    "#### (1.1) 1º Modelo:"
   ]
  },
  {
   "cell_type": "code",
   "execution_count": 3,
   "metadata": {},
   "outputs": [],
   "source": [
    "def modelo1 (X,t,teta):\n",
    "    x = X[0]\n",
    "    y = X[1]\n",
    "    vx = X[2]\n",
    "    vy = X[3]\n",
    "    m = X[4]\n",
    "    \n",
    "    # velocidade:\n",
    "    v = math.sqrt(vx**2+vy**2)\n",
    "    \n",
    "    # definindo os senos e cossenos do modelo\n",
    "    if v>0:\n",
    "        sen_t = vy/v\n",
    "        cos_t = vx/v\n",
    "    else:\n",
    "        sen_t = math.sin(teta)\n",
    "        cos_t = math.cos(teta)\n",
    "    \n",
    "    # variando a pressão interna de ar:\n",
    "    pin = p0*((V0+(M-m)/dw)/V0)**(-gama)\n",
    "    # velocidade de escape do líquido:\n",
    "    ve = math.sqrt((2*(pin-pout))/dw)\n",
    "    # Thrust:\n",
    "    T = (math.pi*(rn**2)*dw*(ve**2))\n",
    "\n",
    "    #---------- derivadas do modelo ---------\n",
    "    if y >= 0:\n",
    "        # enquanto houver combustível para Thrust:\n",
    "        if (m > mS):\n",
    "            dxdt = vx\n",
    "            dydt = vy\n",
    "            dvxdt = (T*cos_t)/m\n",
    "            dvydt = (T*sen_t-m*g)/m\n",
    "            dmdt = -math.pi*(rn**2)*dw*ve\n",
    "        # quando acabar:\n",
    "        else:\n",
    "            dxdt = vx\n",
    "            dydt = vy\n",
    "            dvxdt = 0\n",
    "            dvydt = -g\n",
    "            dmdt = 0\n",
    "    else:\n",
    "        dxdt = 0\n",
    "        dydt = 0\n",
    "        dvxdt = 0\n",
    "        dvydt = 0\n",
    "        dmdt = 0\n",
    "        \n",
    "    # formando a lista com todas as variações\n",
    "    dXdt = [dxdt,dydt,dvxdt,dvydt,dmdt]\n",
    "    return dXdt\n",
    "    "
   ]
  },
  {
   "cell_type": "markdown",
   "metadata": {},
   "source": [
    "#### (1.2) Aplicando ODEINT e plotando os gráficos\n",
    "\n",
    "Para aplicar a função ODEINT e plotar os gráficos com a barra interativa usamos a biblioteca 'ipywidgets'. Basta variar a barra que o angulo de lançamento varia para visualização."
   ]
  },
  {
   "cell_type": "code",
   "execution_count": 4,
   "metadata": {},
   "outputs": [
    {
     "data": {
      "application/vnd.jupyter.widget-view+json": {
       "model_id": "88535d5e40cf4dfa99feb8a8e62f5a4e",
       "version_major": 2,
       "version_minor": 0
      },
      "text/plain": [
       "interactive(children=(IntSlider(value=65, description='teta', max=90, min=40, step=5), Output(layout=Layout(he…"
      ]
     },
     "metadata": {},
     "output_type": "display_data"
    }
   ],
   "source": [
    "def funcao_interactive(teta):\n",
    "    # passando graus para radianos:\n",
    "    teta = math.radians(teta)\n",
    "    \n",
    "    #---------- rodando ODEINT -----------\n",
    "    X = odeint(modelo1,X_0,lista_tempo,args=(teta,))\n",
    "    lista_x = X[:,0]\n",
    "    lista_y = X[:,1]\n",
    "    lista_vx = X[:,2]\n",
    "    lista_vy = X[:,3]\n",
    "    \n",
    "    #-------- plotando o gráfico ---------\n",
    "    plt.plot(lista_x, lista_y, label='Sem resistência do ar')\n",
    "    plt.title('Gráfico de y(t) por x(t)')\n",
    "    plt.ylabel('y(t)')\n",
    "    plt.xlabel('x(t)')\n",
    "    plt.xticks([-10,0,10,20,30,40,50,60,70,80])\n",
    "    plt.yticks([0,5,10,15,20,25,30])\n",
    "    plt.legend(loc=\"best\")\n",
    "    plt.grid(True)\n",
    "    plt.show()\n",
    "    \n",
    "\n",
    "interactive_plot = interactive(funcao_interactive,teta=(40,90,5))\n",
    "output = interactive_plot.children[-1]\n",
    "output.layout.height = '350px'\n",
    "interactive_plot"
   ]
  },
  {
   "cell_type": "markdown",
   "metadata": {},
   "source": [
    "### (2) 2ª Iteração do modelo\n",
    "\n",
    "Para a segunda iterção foi considerada a resistência do ar:\n",
    "\n",
    "<left><img src=\"DCL_2iteracao.png\" width=500 style=\"float: center; margin: 0px 0px 10px 10px\"></left>\n",
    "<left><b>Figura 4: Diagrama do corpo livre da 2ª Iteração</b></left>\n",
    "\n",
    "<left><img src=\"Legenda_2iteracao.png\" width=500 style=\"float: center; margin: 0px 0px 10px 10px\"></left>\n",
    "<left><b>Figura 5: Legenda do diagrama</b></left>\n",
    "\n",
    "As equações para o ODEINT são:\n",
    "\n",
    "$\\frac{dx}{dt}=v_x$\n",
    "\n",
    "$\\frac{dy}{dt}=v_y$\n",
    "\n",
    "$\\frac{dvx}{dt}=\\frac{1}{m}\\cdot[\\pi\\cdot r_n^2 \\cdot d_w \\cdot v_e^2 \\cdot cos \\theta - \\frac{1}{2}\\cdot d_ar \\cdot v^2 \\cdot C_d \\cdot A \\cdot cos\\theta]$\n",
    "\n",
    "$\\frac{dvy}{dt}=\\frac{1}{m}\\cdot[\\pi\\cdot r_n^2 \\cdot d_w \\cdot v_e^2 \\cdot sen \\theta - \\frac{1}{2}\\cdot d_ar \\cdot v^2 \\cdot C_d \\cdot A \\cdot sen\\theta - m \\cdot g]$\n",
    "\n",
    "$\\frac{dm}{dt}=-\\pi \\cdot r_n^2 \\cdot d_w \\cdot v_e$\n",
    "\n",
    "#### (2.1) 2º Modelo:"
   ]
  },
  {
   "cell_type": "code",
   "execution_count": 5,
   "metadata": {},
   "outputs": [],
   "source": [
    "def modelo2 (X,t,teta):\n",
    "    x = X[0]\n",
    "    y = X[1]\n",
    "    vx = X[2]\n",
    "    vy = X[3]\n",
    "    m = X[4]\n",
    "    \n",
    "    # velocidade:\n",
    "    v = math.sqrt(vx**2+vy**2)\n",
    "    \n",
    "    # definindo os senos e cossenos do modelo\n",
    "    if v>0:\n",
    "        sen_t = vy/v\n",
    "        cos_t = vx/v\n",
    "    else:\n",
    "        sen_t = math.sin(teta)\n",
    "        cos_t = math.cos(teta)\n",
    "    \n",
    "    # variando a pressão interna de ar:\n",
    "    pin = p0*((V0+(M-m)/dw)/V0)**(-gama)\n",
    "    # velocidade de escape do líquido:\n",
    "    ve = math.sqrt((2*(pin-pout))/dw)\n",
    "    # Thrust:\n",
    "    T = (math.pi*(rn**2)*dw*(ve**2))\n",
    "    \n",
    "    # Forças de resistência do ar em x e y\n",
    "    Frarx = 0.5*Ca*dar*A*vx*v\n",
    "    Frary = 0.5*Ca*dar*A*vy*v\n",
    "\n",
    "    #---------- derivadas do modelo ---------\n",
    "    if y >= 0:\n",
    "        if (m > mS):\n",
    "            dxdt = vx\n",
    "            dydt = vy\n",
    "            dvxdt = (T*cos_t-Frarx)/m\n",
    "            dvydt = (T*sen_t-Frary-m*g)/m\n",
    "            dmdt = -math.pi*(rn**2)*dw*ve\n",
    "        else:\n",
    "            dxdt = vx\n",
    "            dydt = vy\n",
    "            dvxdt = -Frarx/m\n",
    "            dvydt = (-Frary-m*g)/m\n",
    "            dmdt = 0\n",
    "    else:\n",
    "        dxdt = 0\n",
    "        dydt = 0\n",
    "        dvxdt = 0\n",
    "        dvydt = 0\n",
    "        dmdt = 0\n",
    "    dXdt = [dxdt,dydt,dvxdt,dvydt,dmdt]\n",
    "    return dXdt\n",
    "    "
   ]
  },
  {
   "cell_type": "markdown",
   "metadata": {},
   "source": [
    "#### (2.2) Aplicando ODEINT e plotando os gráficos\n",
    "\n",
    "Da mesma forma que na primeira iteração, temos a barra interativa para variar o ângulo de lançamento"
   ]
  },
  {
   "cell_type": "code",
   "execution_count": 6,
   "metadata": {},
   "outputs": [
    {
     "data": {
      "application/vnd.jupyter.widget-view+json": {
       "model_id": "6f9f4900ea1f4888934cf28c25e120ea",
       "version_major": 2,
       "version_minor": 0
      },
      "text/plain": [
       "interactive(children=(IntSlider(value=65, description='angulo', max=90, min=40, step=5), Output(layout=Layout(…"
      ]
     },
     "metadata": {},
     "output_type": "display_data"
    }
   ],
   "source": [
    "def funcao_interactive_2(angulo):\n",
    "    # de graus para radianos:\n",
    "    teta = math.radians(angulo)\n",
    "    \n",
    "    #---------- rodando ODEINT -----------\n",
    "    X2 = odeint(modelo2,X_0,lista_tempo,args=(teta,))\n",
    "    lista_x2 = X2[:,0]\n",
    "    lista_y2 = X2[:,1]\n",
    "    lista_vx2 = X2[:,2]\n",
    "    lista_vy2 = X2[:,3]\n",
    "    \n",
    "    #-------- plotando o gráfico ---------\n",
    "    plt.plot(lista_x2, lista_y2, 'r', label='Com resistência do ar')\n",
    "    plt.title('Gráfico de y(t) por x(t)')\n",
    "    plt.ylabel('y(t)')\n",
    "    plt.xlabel('x(t)')\n",
    "    plt.xticks([-10,0,10,20,30,40,50])\n",
    "    plt.yticks([0,5,10,15,20,25,30])\n",
    "    plt.legend()\n",
    "    plt.grid(True)\n",
    "    plt.show()\n",
    "    \n",
    "\n",
    "interactive_plot = interactive(funcao_interactive_2,angulo=(40,90,5))\n",
    "output = interactive_plot.children[-1]\n",
    "output.layout.height = '350px'\n",
    "interactive_plot"
   ]
  },
  {
   "cell_type": "markdown",
   "metadata": {},
   "source": [
    "### (3) Validação do modelo\n",
    "\n",
    "A partir de um experimentro já feito de lançamento vertical, e utilizando seus parâmetros de lançamento, validamos o modelo. \n",
    "\n",
    "Utilizamos somente os pontos de subida, uma vez que a descida é feita com um paraquedas."
   ]
  },
  {
   "cell_type": "code",
   "execution_count": 7,
   "metadata": {},
   "outputs": [
    {
     "data": {
      "image/png": "[encoded data removed]",
      "text/plain": [
       "<Figure size 432x288 with 1 Axes>"
      ]
     },
     "metadata": {
      "needs_background": "light"
     },
     "output_type": "display_data"
    }
   ],
   "source": [
    "#--------- validando o modelo com o lançamento em y ---------\n",
    "# condições iniciais do lançamento experimental:\n",
    "p0 = 482633\n",
    "mP = 0.8\n",
    "mS = 0.1\n",
    "M = mS + mP\n",
    "\n",
    "#condições iniciais:\n",
    "x0=0\n",
    "y0=0\n",
    "vx0=0\n",
    "vy0=0\n",
    "m0 = M\n",
    "X_0=[x0,y0,vx0,vy0,m0]\n",
    "\n",
    "# lista de tempo e posição em y:\n",
    "lista_tempoMedido = [0.107421875,0.15625,0.1953125,0.25390625,0.322265625,0.390625,0.44921875,0.52734375,0.595703125,0.673828125,0.732421875,0.810546875,0.947265625,1.07421875,1.220703125]# abertura do paraquedas : [1.46484375,1.767578125,2.03125,2.24609375,2.421875,2.65625,2.822265625,2.978515625,3.125,3.349609375,3.603515625,3.76953125,3.9453125,4.111328125,4.2578125,4.39453125,4.541015625,4.66796875,4.765625,4.86328125,4.98046875,5.05859375]\n",
    "lista_yMedido = [-0.01245503,1.849296346,3.82402476,5.798532731,8.22439775,10.98886322,13.07623801,16.00989348,19.1129594,22.10304829,23.00532149,22.60940586,22.72072958,23.05789715,23.16911064]# abertura do paraquedas : [23.16635511,23.27580506,22.93422863,22.19816944,21.1803841,19.76690357,18.57992822,17.05446265,16.03700797,14.28503721,12.6456026,11.7407943,10.49727532,9.197433162,8.010678259,6.824033578,5.524411858,4.394310807,3.65957428,2.69910412,1.230512839,0.721730389,]\n",
    "\n",
    "# rodando ODEINT para o lançamento vertival:\n",
    "teta = math.radians(90)\n",
    "X2 = odeint(modelo2,X_0,lista_tempo,args=(teta,))\n",
    "lista_y2 = X2[:,1]\n",
    "\n",
    "# plotando o gráfico:\n",
    "plt.plot(lista_tempo, lista_y2, 'r', label='Modelo')\n",
    "plt.plot(lista_tempoMedido,lista_yMedido,'bo',label='dados experimentais')\n",
    "plt.title('Gráfico de y(t) por tempo')\n",
    "plt.ylabel('y(t)')\n",
    "plt.xlabel('tempo')\n",
    "plt.yticks([0,5,10,15,20,25])\n",
    "plt.legend()\n",
    "plt.grid(True)\n",
    "plt.show()"
   ]
  },
  {
   "cell_type": "markdown",
   "metadata": {},
   "source": [
    "### (4) Respondendo às Perguntas:\n",
    "\n",
    "Com o modelo validado, podemos agora gerar os gráficos para responder às perguntas feitas no início do projeto.\n",
    "\n",
    "#### (4.1) Alcance em função do ângulo:\n",
    "\n",
    "Para responder essa pergunta vamos rodar o ODEINT para vários angulos de lançamento e pegar o valor daquele que possui o maior alcance, sendo assim o melhor ângulo para o lançamento.\n",
    "\n",
    "A resposta sairá no terminal depois do gráfico de alcance pelo ângulo."
   ]
  },
  {
   "cell_type": "code",
   "execution_count": 8,
   "metadata": {},
   "outputs": [
    {
     "name": "stderr",
     "output_type": "stream",
     "text": [
      "C:\\Users\\franc\\Anaconda3\\lib\\site-packages\\scipy\\integrate\\odepack.py:247: ODEintWarning: Excess work done on this call (perhaps wrong Dfun type). Run with full_output = 1 to get quantitative information.\n",
      "  warnings.warn(warning_msg, ODEintWarning)\n"
     ]
    },
    {
     "data": {
      "image/png": "[encoded data removed]",
      "text/plain": [
       "<Figure size 432x288 with 1 Axes>"
      ]
     },
     "metadata": {
      "needs_background": "light"
     },
     "output_type": "display_data"
    },
    {
     "name": "stdout",
     "output_type": "stream",
     "text": [
      "O ângulo que gera maior distância percorrida pelo foguete é 66 graus\n"
     ]
    }
   ],
   "source": [
    "# voltando para os padrões utilizados\n",
    "# massa seca\n",
    "mS = 0.3\n",
    "# massa de água para propulsão:\n",
    "mP = 0.66\n",
    "# massa inicial do foguete:\n",
    "M = mS + mP\n",
    "# pressão inicial:\n",
    "p0 = 517107\n",
    "\n",
    "# lista de angulos de lançamento:\n",
    "lista_angulos = np.arange(45,90,1)\n",
    "lista_x_max = []\n",
    "for angulo in lista_angulos:\n",
    "    teta = math.radians(angulo)\n",
    "    X2 = odeint(modelo2,X_0,lista_tempo,args=(teta,))\n",
    "    lista_x2 = X2[:,0]\n",
    "    lista_x_max.append(max(lista_x2))\n",
    "    \n",
    "ax=plt.axes()\n",
    "plt.plot(lista_angulos,lista_x_max,'ro',markersize=4)\n",
    "ax.set_facecolor('xkcd:ivory')\n",
    "plt.title('Gráfico de x(t) pelo angulo de lançamento')\n",
    "plt.ylabel('x(t)')\n",
    "plt.xlabel('angulo')\n",
    "plt.grid(True)\n",
    "plt.show()\n",
    "\n",
    "print('O ângulo que gera maior distância percorrida pelo foguete é {0} graus'.format(lista_angulos[lista_x_max.index(max(lista_x_max))]))"
   ]
  },
  {
   "cell_type": "markdown",
   "metadata": {},
   "source": [
    "#### (4.2) Alcance pela massa de propulsão:\n",
    "\n",
    "Rodando ODEINT variando o mP colocado no modelo, para poder responder qual a melhor massa de propulsão que gera o maior alcance do foguete. A resposta sairá no terminal depois do gráfico."
   ]
  },
  {
   "cell_type": "code",
   "execution_count": 9,
   "metadata": {},
   "outputs": [
    {
     "data": {
      "image/png": "[encoded data removed]",
      "text/plain": [
       "<Figure size 432x288 with 1 Axes>"
      ]
     },
     "metadata": {
      "needs_background": "light"
     },
     "output_type": "display_data"
    },
    {
     "name": "stdout",
     "output_type": "stream",
     "text": [
      "A massa de propulsão que gera maior distância percorrida pelo foguete é 0.88 kg\n"
     ]
    }
   ],
   "source": [
    "# melhor angulo de lançamento para alcance\n",
    "angulo = 66\n",
    "\n",
    "\n",
    "lista_massa_propulsao = np.arange(0.01,1.5,0.01)\n",
    "lista_x_max_2 = []\n",
    "\n",
    "for mP in lista_massa_propulsao:\n",
    "    M = mS + mP\n",
    "    m0 = M\n",
    "    X_0=[x0,y0,vx0,vy0,m0]\n",
    "    teta = math.radians(angulo)\n",
    "    X2 = odeint(modelo2,X_0,lista_tempo,args=(teta,))\n",
    "    lista_x2 = X2[:,0]\n",
    "    lista_x_max_2.append(max(lista_x2))\n",
    "    \n",
    "ax=plt.axes()\n",
    "plt.plot(lista_massa_propulsao,lista_x_max_2,'co',markersize=3)\n",
    "ax.set_facecolor('xkcd:ivory')\n",
    "plt.title('Gráfico de x(t) pela massa de propulsão')\n",
    "plt.ylabel('x(t)')\n",
    "plt.xlabel('massa de propulsão')\n",
    "plt.grid(True)\n",
    "plt.show()\n",
    "\n",
    "print('A massa de propulsão que gera maior distância percorrida pelo foguete é {0} kg'.format(lista_massa_propulsao[lista_x_max_2.index(max(lista_x_max_2))]))"
   ]
  },
  {
   "cell_type": "markdown",
   "metadata": {},
   "source": [
    "#### (4.2) Alcance pela massa seca:\n",
    "\n",
    "Agora, com o angulo ideal e a massa de propulsão ideal, vamos descobrir qual a massa seca ideal para o lançamento do foguete, de modo a chegar o mais longe possível e ajudar a escola a ganhar a competição. Novamente a resposta sairá depois do gráfico."
   ]
  },
  {
   "cell_type": "code",
   "execution_count": 11,
   "metadata": {},
   "outputs": [
    {
     "data": {
      "image/png": "[encoded data removed]",
      "text/plain": [
       "<Figure size 432x288 with 1 Axes>"
      ]
     },
     "metadata": {
      "needs_background": "light"
     },
     "output_type": "display_data"
    },
    {
     "name": "stdout",
     "output_type": "stream",
     "text": [
      "A massa seca que gera maior distância percorrida pelo foguete é 0.23 kg\n"
     ]
    }
   ],
   "source": [
    "# melhor massa de propulsão para o foguete:\n",
    "mP = 0.88\n",
    "\n",
    "lista_massa_seca = np.arange(0.01,0.5,0.01)\n",
    "lista_x_max_3 = []\n",
    "\n",
    "for mS in lista_massa_seca:\n",
    "    M = mS + mP\n",
    "    m0 = M\n",
    "    X_0=[x0,y0,vx0,vy0,m0]\n",
    "    teta = math.radians(angulo)\n",
    "    X2 = odeint(modelo2,X_0,lista_tempo,args=(teta,))\n",
    "    lista_x2 = X2[:,0]\n",
    "    lista_x_max_3.append(max(lista_x2))\n",
    "    \n",
    "ax=plt.axes()\n",
    "plt.plot(lista_massa_seca,lista_x_max_3,'bo',markersize=4)\n",
    "ax.set_facecolor('xkcd:ivory')\n",
    "plt.title('Gráfico de x(t) pela massa seca')\n",
    "plt.ylabel('x(t)')\n",
    "plt.xlabel('massa seca')\n",
    "plt.grid(True)\n",
    "plt.show()\n",
    "\n",
    "print('A massa seca que gera maior distância percorrida pelo foguete é {0} kg'.format(lista_massa_seca[lista_x_max_3.index(max(lista_x_max_3))]))"
   ]
  },
  {
   "cell_type": "markdown",
   "metadata": {},
   "source": [
    "### (5) Conclusão\n",
    "\n",
    "Com os gráficos comclusivos podemos chegar na resposta perfeita para a escola:\n",
    "\n",
    "- **Ângulo de lançamento**: 66 graus\n",
    "\n",
    "- **Massa de propulsão**: 880 gramas de água\n",
    "\n",
    "- **Massa seca**: 230 gramas\n",
    "\n",
    "A pressão utilizada foi a máxima recomendada pelo manual de segurança de lançamento de foguetes de garrafa PET."
   ]
  },
  {
   "cell_type": "code",
   "execution_count": null,
   "metadata": {},
   "outputs": [],
   "source": []
  }
 ],
 "metadata": {
  "kernelspec": {
   "display_name": "Python 3",
   "language": "python",
   "name": "python3"
  },
  "language_info": {
   "codemirror_mode": {
    "name": "ipython",
    "version": 3
   },
   "file_extension": ".py",
   "mimetype": "text/x-python",
   "name": "python",
   "nbconvert_exporter": "python",
   "pygments_lexer": "ipython3",
   "version": "3.7.4"
  }
 },
 "nbformat": 4,
 "nbformat_minor": 2
}
